{
 "cells": [
  {
   "cell_type": "code",
   "execution_count": 2,
   "metadata": {},
   "outputs": [],
   "source": [
    "import time\n",
    "import json\n",
    "import datetime"
   ]
  },
  {
   "cell_type": "code",
   "execution_count": 29,
   "metadata": {},
   "outputs": [
    {
     "name": "stdout",
     "output_type": "stream",
     "text": [
      "2023-08-22 10:46:44.689907\n",
      "2023-08-22T10:46:44.689970\n",
      "08 Tue\n",
      "1692715604.689869\n"
     ]
    }
   ],
   "source": [
    "now = datetime.datetime.now()\n",
    "print(datetime.datetime.now())\n",
    "print(datetime.datetime.now().isoformat())\n",
    "datetime.datetime.timestamp(datetime.datetime.fromisoformat('2020-10-01T00:00:00'))\n",
    "month = now.strftime('%m')\n",
    "day = now.strftime('%a')\n",
    "print (month, day)\n",
    "print (datetime.datetime.timestamp(now))\n"
   ]
  },
  {
   "cell_type": "code",
   "execution_count": 7,
   "metadata": {},
   "outputs": [],
   "source": [
    "log_path = 'Company3_Regions_log.json'\n",
    "with open(log_path, 'r') as _log:\n",
    "    log_data = json.load(_log)"
   ]
  },
  {
   "cell_type": "code",
   "execution_count": 8,
   "metadata": {},
   "outputs": [],
   "source": [
    "all_sessions = 0\n",
    "all_work = 0\n",
    "all_idle = 0\n",
    "number_of_sessions = 0\n",
    "daily_log = {}\n"
   ]
  },
  {
   "cell_type": "code",
   "execution_count": 23,
   "metadata": {},
   "outputs": [
    {
     "name": "stdout",
     "output_type": "stream",
     "text": [
      "814\n",
      "814\n",
      "814\n",
      "814\n",
      "815\n",
      "815\n",
      "815\n",
      "815\n",
      "815\n",
      "815\n",
      "815\n",
      "815\n",
      "815\n",
      "816\n",
      "816\n",
      "816\n",
      "816\n",
      "816\n",
      "816\n",
      "817\n",
      "817\n",
      "817\n",
      "817\n",
      "818\n",
      "818\n",
      "818\n",
      "818\n",
      "818\n",
      "818\n",
      "821\n"
     ]
    }
   ],
   "source": [
    "for session in log_data['sessions']:\n",
    "    start_time = datetime.datetime.timestamp(datetime.datetime.fromisoformat(session['start_time']))\n",
    "    end_time = datetime.datetime.timestamp(datetime.datetime.fromisoformat(session['end_time'])) # as timestamp\n",
    "    idle_time = session['idle_time'] # as int\n",
    "    session_time = end_time - start_time\n",
    "    work_time = session_time - idle_time\n",
    "    current_day = str((datetime.datetime.fromisoformat(session['start_time'])).month) + str((datetime.datetime.fromisoformat(session['start_time'])).day)\n",
    "    print (current_day)\n",
    "    if current_day not in daily_log:\n",
    "        daily_log[current_day] = {'start_time': start_time, 'sessions': 1, 'work': work_time, 'idle': idle_time, 'end_time': end_time}\n",
    "    daily_log[current_day]['sessions'] += 1\n",
    "    daily_log[current_day]['work'] += work_time\n",
    "    daily_log[current_day]['idle'] += idle_time\n",
    "    daily_log[current_day]['end_time'] = end_time"
   ]
  },
  {
   "cell_type": "code",
   "execution_count": 12,
   "metadata": {},
   "outputs": [
    {
     "name": "stdout",
     "output_type": "stream",
     "text": [
      "2023-08-14 21:36:30.027289\n",
      "2023-08-14 21:46:15.853554\n",
      "2023-08-14 21:50:59.855655\n",
      "2023-08-14 21:57:49.728727\n",
      "2023-08-15 07:18:25.753684\n",
      "2023-08-15 09:11:00.768881\n",
      "2023-08-15 15:22:46.088989\n",
      "2023-08-15 18:19:15.287778\n",
      "2023-08-15 18:29:53.451680\n",
      "2023-08-15 18:48:09.878896\n",
      "2023-08-15 19:24:22.790126\n",
      "2023-08-15 21:25:28.914574\n",
      "2023-08-15 21:25:38.960045\n",
      "2023-08-16 09:32:45.910041\n",
      "2023-08-16 10:38:47.836601\n",
      "2023-08-16 10:47:05.804820\n",
      "2023-08-16 10:47:48.831917\n",
      "2023-08-16 17:13:22.455957\n",
      "2023-08-16 17:21:05.046188\n",
      "2023-08-17 10:21:06.726621\n",
      "2023-08-17 10:47:49.988622\n",
      "2023-08-17 11:10:15.232981\n",
      "2023-08-17 11:58:33.171894\n",
      "2023-08-18 07:11:00.298138\n",
      "2023-08-18 10:00:38.509622\n",
      "2023-08-18 10:33:59.999699\n",
      "2023-08-18 11:21:21.127986\n",
      "2023-08-18 14:05:01.150240\n",
      "2023-08-18 17:42:19.659624\n",
      "2023-08-21 12:07:44.429557\n"
     ]
    }
   ],
   "source": [
    "for day in daily_log:\n",
    "    print(day)"
   ]
  }
 ],
 "metadata": {
  "kernelspec": {
   "display_name": "Python 3",
   "language": "python",
   "name": "python3"
  },
  "language_info": {
   "codemirror_mode": {
    "name": "ipython",
    "version": 3
   },
   "file_extension": ".py",
   "mimetype": "text/x-python",
   "name": "python",
   "nbconvert_exporter": "python",
   "pygments_lexer": "ipython3",
   "version": "3.9.10"
  },
  "orig_nbformat": 4
 },
 "nbformat": 4,
 "nbformat_minor": 2
}
